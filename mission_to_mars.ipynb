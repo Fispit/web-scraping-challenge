{
 "cells": [
  {
   "cell_type": "code",
   "execution_count": 1,
   "id": "cultural-oliver",
   "metadata": {},
   "outputs": [],
   "source": [
    "#Import dependencies\n",
    "from splinter import Browser\n",
    "from bs4 import BeautifulSoup as bs\n",
    "from webdriver_manager.chrome import ChromeDriverManager\n",
    "import pandas as pd\n"
   ]
  },
  {
   "cell_type": "code",
   "execution_count": 2,
   "id": "retired-teaching",
   "metadata": {},
   "outputs": [
    {
     "name": "stderr",
     "output_type": "stream",
     "text": [
      "\n",
      "\n",
      "====== WebDriver manager ======\n",
      "Current google-chrome version is 91.0.4472\n",
      "Get LATEST driver version for 91.0.4472\n",
      "Driver [C:\\Users\\sdelc\\.wdm\\drivers\\chromedriver\\win32\\91.0.4472.101\\chromedriver.exe] found in cache\n"
     ]
    }
   ],
   "source": [
    "# Set up Splinter\n",
    "executable_path = {'executable_path': ChromeDriverManager().install()}\n",
    "browser = Browser('chrome', **executable_path, headless=False)\n",
    "\n",
    "# Visit visitcostarica.herokuapp.com\n",
    "url = \"https://redplanetscience.com/\"\n",
    "browser.visit(url)\n",
    "\n",
    "# Scrape page into Soup\n",
    "html = browser.html\n",
    "soup = bs(html, \"html.parser\")\n",
    "    "
   ]
  },
  {
   "cell_type": "code",
   "execution_count": 3,
   "id": "acknowledged-acoustic",
   "metadata": {},
   "outputs": [],
   "source": [
    "#finding the data\n",
    "article_title = soup.find('div', class_='content_title').text\n",
    "article_desc = soup.find('div', class_='article_teaser_body').text"
   ]
  },
  {
   "cell_type": "code",
   "execution_count": 4,
   "id": "polished-practitioner",
   "metadata": {},
   "outputs": [],
   "source": [
    "#visint the url for mars image\n",
    "url = \"https://spaceimages-mars.com/\"\n",
    "browser.visit(url)\n",
    "html = browser.html\n",
    "soup = bs(html, \"html.parser\")"
   ]
  },
  {
   "cell_type": "code",
   "execution_count": 5,
   "id": "sitting-investing",
   "metadata": {},
   "outputs": [],
   "source": [
    "imageloc=soup.find('img',class_=\"headerimage\")\n",
    "relative_image_path =imageloc[\"src\"]\n",
    "featured_image_url = url + relative_image_path"
   ]
  },
  {
   "cell_type": "code",
   "execution_count": 6,
   "id": "mathematical-western",
   "metadata": {
    "scrolled": true
   },
   "outputs": [],
   "source": [
    "url=\"http://galaxyfacts-mars.com\"\n",
    "marstable=pd.read_html(url)[1]\n",
    "marstable=pd.DataFrame(marstable)\n",
    "marstable=marstable.rename(columns={0:\"Property\",1:\"Value\"})\n",
    "marstable_html=marstable.to_html()\n",
    "marstable_html=marstable.to_html()\n",
    "marstable.to_html(\"marstable.html\")\n",
    "\n"
   ]
  },
  {
   "cell_type": "code",
   "execution_count": 7,
   "id": "limiting-sierra",
   "metadata": {},
   "outputs": [],
   "source": [
    "url = \"https://marshemispheres.com/\"\n",
    "browser.visit(url)\n",
    "html = browser.html\n",
    "soup = bs(html, \"html.parser\")"
   ]
  },
  {
   "cell_type": "code",
   "execution_count": 8,
   "id": "regulation-apollo",
   "metadata": {},
   "outputs": [],
   "source": [
    "urllist=[]\n",
    "hemisphere_text=[]\n",
    "hemisphere_desc = soup.find_all('div', class_='description')\n",
    "\n",
    "for x in range(0,4):\n",
    "    name=hemisphere_desc[x].find(\"h3\").text.split(\" \")\n",
    "    listname=name[0]+\" \"+name[1]\n",
    "    if x==2 or x==3:\n",
    "        listname=name[0]+\" \"+name[1]+\" \"+name[2]\n",
    "    hemisphere_text.append(listname)\n",
    "    relative=hemisphere_desc[x].find(\"a\")[\"href\"]\n",
    "    imagepage=url+relative\n",
    "    urllist.append(imagepage)\n",
    "    "
   ]
  },
  {
   "cell_type": "code",
   "execution_count": 9,
   "id": "fifty-future",
   "metadata": {},
   "outputs": [],
   "source": [
    "fullimageurls=[]\n",
    "for imgurl in urllist:\n",
    "    browser.visit(imgurl)\n",
    "    html = browser.html\n",
    "    soup = bs(html, \"html.parser\")\n",
    "    relative= soup.find_all('div', class_='downloads')[0].find_all(\"li\")[1].find(\"a\")[\"href\"]\n",
    "    totalurl=url+relative\n",
    "    fullimageurls.append(totalurl)\n"
   ]
  },
  {
   "cell_type": "code",
   "execution_count": 10,
   "id": "constant-aircraft",
   "metadata": {},
   "outputs": [],
   "source": [
    "hemisphere_image_urls=[] \n",
    "for x in range(0,len(hemisphere_text)):\n",
    "    hemisphere_image_urls.append({\"title\":hemisphere_text[x],\"img_url\":fullimageurls[x]})\n",
    "    "
   ]
  },
  {
   "cell_type": "code",
   "execution_count": 11,
   "id": "confirmed-happiness",
   "metadata": {
    "scrolled": true
   },
   "outputs": [],
   "source": [
    "returndict={\n",
    "    \"news\":{\"title\":article_title,\"description\":article_desc},\n",
    "    \"spaceimg\":featured_image_url,\n",
    "    \"marsdata\":marstable_html,\n",
    "    \"hemispheres\":hemisphere_image_urls\n",
    "}\n",
    "browser.quit()"
   ]
  },
  {
   "cell_type": "code",
   "execution_count": 12,
   "id": "automatic-general",
   "metadata": {},
   "outputs": [
    {
     "data": {
      "text/plain": [
       "{'news': {'title': \"NASA's Mars 2020 Comes Full Circle\",\n",
       "  'description': \"Aiming to pinpoint the Martian vehicle's center of gravity, engineers took NASA's 2,300-pound Mars 2020 rover for a spin in the clean room at JPL. \"},\n",
       " 'spaceimg': 'https://spaceimages-mars.com/image/featured/mars2.jpg',\n",
       " 'marsdata': '<table border=\"1\" class=\"dataframe\">\\n  <thead>\\n    <tr style=\"text-align: right;\">\\n      <th></th>\\n      <th>Property</th>\\n      <th>Value</th>\\n    </tr>\\n  </thead>\\n  <tbody>\\n    <tr>\\n      <th>0</th>\\n      <td>Equatorial Diameter:</td>\\n      <td>6,792 km</td>\\n    </tr>\\n    <tr>\\n      <th>1</th>\\n      <td>Polar Diameter:</td>\\n      <td>6,752 km</td>\\n    </tr>\\n    <tr>\\n      <th>2</th>\\n      <td>Mass:</td>\\n      <td>6.39 × 10^23 kg (0.11 Earths)</td>\\n    </tr>\\n    <tr>\\n      <th>3</th>\\n      <td>Moons:</td>\\n      <td>2 ( Phobos &amp; Deimos )</td>\\n    </tr>\\n    <tr>\\n      <th>4</th>\\n      <td>Orbit Distance:</td>\\n      <td>227,943,824 km (1.38 AU)</td>\\n    </tr>\\n    <tr>\\n      <th>5</th>\\n      <td>Orbit Period:</td>\\n      <td>687 days (1.9 years)</td>\\n    </tr>\\n    <tr>\\n      <th>6</th>\\n      <td>Surface Temperature:</td>\\n      <td>-87 to -5 °C</td>\\n    </tr>\\n    <tr>\\n      <th>7</th>\\n      <td>First Record:</td>\\n      <td>2nd millennium BC</td>\\n    </tr>\\n    <tr>\\n      <th>8</th>\\n      <td>Recorded By:</td>\\n      <td>Egyptian astronomers</td>\\n    </tr>\\n  </tbody>\\n</table>',\n",
       " 'hemispheres': [{'title': 'Cerberus Hemisphere',\n",
       "   'img_url': 'https://marshemispheres.com/images/cerberus_enhanced.tif'},\n",
       "  {'title': 'Schiaparelli Hemisphere',\n",
       "   'img_url': 'https://marshemispheres.com/images/schiaparelli_enhanced.tif'},\n",
       "  {'title': 'Syrtis Major Hemisphere',\n",
       "   'img_url': 'https://marshemispheres.com/images/syrtis_major_enhanced.tif'},\n",
       "  {'title': 'Valles Marineris Hemisphere',\n",
       "   'img_url': 'https://marshemispheres.com/images/valles_marineris_enhanced.tif'}]}"
      ]
     },
     "execution_count": 12,
     "metadata": {},
     "output_type": "execute_result"
    }
   ],
   "source": [
    "returndict"
   ]
  },
  {
   "cell_type": "code",
   "execution_count": null,
   "id": "joined-parking",
   "metadata": {},
   "outputs": [],
   "source": []
  }
 ],
 "metadata": {
  "kernelspec": {
   "display_name": "Python [conda env:PythonData] *",
   "language": "python",
   "name": "conda-env-PythonData-py"
  },
  "language_info": {
   "codemirror_mode": {
    "name": "ipython",
    "version": 3
   },
   "file_extension": ".py",
   "mimetype": "text/x-python",
   "name": "python",
   "nbconvert_exporter": "python",
   "pygments_lexer": "ipython3",
   "version": "3.6.10"
  }
 },
 "nbformat": 4,
 "nbformat_minor": 5
}
