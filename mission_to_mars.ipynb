{
 "cells": [
  {
   "cell_type": "code",
   "execution_count": 1,
   "id": "above-copper",
   "metadata": {},
   "outputs": [],
   "source": [
    "#Import dependencies\n",
    "from splinter import Browser\n",
    "from bs4 import BeautifulSoup as bs\n",
    "from webdriver_manager.chrome import ChromeDriverManager\n",
    "from flask import Flask, render_template, redirect\n",
    "from flask_pymongo import PyMongo\n",
    "import time\n",
    "import pandas as pd\n"
   ]
  },
  {
   "cell_type": "code",
   "execution_count": 2,
   "id": "accepting-louisiana",
   "metadata": {},
   "outputs": [
    {
     "name": "stderr",
     "output_type": "stream",
     "text": [
      "\n",
      "\n",
      "====== WebDriver manager ======\n",
      "Current google-chrome version is 91.0.4472\n",
      "Get LATEST driver version for 91.0.4472\n",
      "Driver [C:\\Users\\sdelc\\.wdm\\drivers\\chromedriver\\win32\\91.0.4472.19\\chromedriver.exe] found in cache\n"
     ]
    }
   ],
   "source": [
    "# Set up Splinter\n",
    "executable_path = {'executable_path': ChromeDriverManager().install()}\n",
    "browser = Browser('chrome', **executable_path, headless=False)\n",
    "\n",
    "# Visit visitcostarica.herokuapp.com\n",
    "url = \"https://redplanetscience.com/\"\n",
    "browser.visit(url)\n",
    "\n",
    "# Scrape page into Soup\n",
    "html = browser.html\n",
    "soup = bs(html, \"html.parser\")\n",
    "    "
   ]
  },
  {
   "cell_type": "code",
   "execution_count": 3,
   "id": "charged-tradition",
   "metadata": {},
   "outputs": [],
   "source": [
    "#finding the data\n",
    "article_title = soup.find('div', class_='content_title').text\n",
    "article_desc = soup.find('div', class_='article_teaser_body').text"
   ]
  },
  {
   "cell_type": "code",
   "execution_count": 4,
   "id": "individual-aluminum",
   "metadata": {},
   "outputs": [],
   "source": [
    "#visint the url for mars image\n",
    "url = \"https://spaceimages-mars.com/\"\n",
    "browser.visit(url)\n",
    "html = browser.html\n",
    "soup = bs(html, \"html.parser\")"
   ]
  },
  {
   "cell_type": "code",
   "execution_count": 5,
   "id": "geographic-allowance",
   "metadata": {},
   "outputs": [],
   "source": [
    "imageloc=soup.find('img',class_=\"headerimage\")\n",
    "relative_image_path =imageloc[\"src\"]\n",
    "mars_image_url = url + relative_image_path"
   ]
  },
  {
   "cell_type": "code",
   "execution_count": 6,
   "id": "communist-israeli",
   "metadata": {},
   "outputs": [
    {
     "data": {
      "text/plain": [
       "[                      0                              1\n",
       " 0  Equatorial Diameter:                       6,792 km\n",
       " 1       Polar Diameter:                       6,752 km\n",
       " 2                 Mass:  6.39 × 10^23 kg (0.11 Earths)\n",
       " 3                Moons:          2 ( Phobos & Deimos )\n",
       " 4       Orbit Distance:       227,943,824 km (1.38 AU)\n",
       " 5         Orbit Period:           687 days (1.9 years)\n",
       " 6  Surface Temperature:                   -87 to -5 °C\n",
       " 7         First Record:              2nd millennium BC\n",
       " 8          Recorded By:           Egyptian astronomers]"
      ]
     },
     "execution_count": 6,
     "metadata": {},
     "output_type": "execute_result"
    }
   ],
   "source": [
    "url=\"http://galaxyfacts-mars.com\"\n",
    "marstable=pd.read_html(url,attrs={\"class\":\"table-striped\"})"
   ]
  },
  {
   "cell_type": "code",
   "execution_count": 98,
   "id": "younger-grade",
   "metadata": {},
   "outputs": [],
   "source": [
    "url = \"https://marshemispheres.com/\"\n",
    "browser.visit(url)\n",
    "html = browser.html\n",
    "soup = bs(html, \"html.parser\")"
   ]
  },
  {
   "cell_type": "code",
   "execution_count": 99,
   "id": "accepting-heater",
   "metadata": {},
   "outputs": [],
   "source": [
    "urllist=[]\n",
    "hemisphere_text=[]\n",
    "hemisphere_desc = soup.find_all('div', class_='description')\n",
    "\n",
    "for x in range(0,4):\n",
    "    name=hemisphere_desc[x].find(\"h3\").text.split(\" \")\n",
    "    listname=name[0]+\" \"+name[1]\n",
    "    if x==2 or x==3:\n",
    "        listname=name[0]+\" \"+name[1]+\" \"+name[2]\n",
    "    hemisphere_text.append(listname)\n",
    "    relative=hemisphere_desc[x].find(\"a\")[\"href\"]\n",
    "    imagepage=url+relative\n",
    "    urllist.append(imagepage)\n",
    "    "
   ]
  },
  {
   "cell_type": "code",
   "execution_count": 100,
   "id": "consistent-subsection",
   "metadata": {},
   "outputs": [],
   "source": [
    "fullimageurls=[]\n",
    "for imgurl in urllist:\n",
    "    browser.visit(imgurl)\n",
    "    html = browser.html\n",
    "    soup = bs(html, \"html.parser\")\n",
    "    relative= soup.find_all('div', class_='downloads')[0].find_all(\"li\")[1].find(\"a\")[\"href\"]\n",
    "    totalurl=url+relative\n",
    "    fullimageurls.append(totalurl)\n"
   ]
  },
  {
   "cell_type": "code",
   "execution_count": 115,
   "id": "gorgeous-ocean",
   "metadata": {},
   "outputs": [],
   "source": [
    "hemisphere_image_urls=[] \n",
    "for x in range(0,len(hemisphere_text)):\n",
    "    hemisphere_image_urls.append({\"title\":hemisphere_text[x],\"img_url\":fullimageurls[x]})\n",
    "    "
   ]
  },
  {
   "cell_type": "code",
   "execution_count": 116,
   "id": "processed-grain",
   "metadata": {},
   "outputs": [
    {
     "data": {
      "text/plain": [
       "[{'title': 'Cerberus Hemisphere',\n",
       "  'img_url': 'https://marshemispheres.com/images/cerberus_enhanced.tif'},\n",
       " {'title': 'Schiaparelli Hemisphere',\n",
       "  'img_url': 'https://marshemispheres.com/images/schiaparelli_enhanced.tif'},\n",
       " {'title': 'Syrtis Major Hemisphere',\n",
       "  'img_url': 'https://marshemispheres.com/images/syrtis_major_enhanced.tif'},\n",
       " {'title': 'Valles Marineris Hemisphere',\n",
       "  'img_url': 'https://marshemispheres.com/images/valles_marineris_enhanced.tif'}]"
      ]
     },
     "execution_count": 116,
     "metadata": {},
     "output_type": "execute_result"
    }
   ],
   "source": [
    "returndict={\n",
    "    \n",
    "    \n",
    "    \n",
    "}"
   ]
  },
  {
   "cell_type": "code",
   "execution_count": null,
   "id": "greenhouse-empire",
   "metadata": {},
   "outputs": [],
   "source": []
  }
 ],
 "metadata": {
  "kernelspec": {
   "display_name": "Python [conda env:PythonData] *",
   "language": "python",
   "name": "conda-env-PythonData-py"
  },
  "language_info": {
   "codemirror_mode": {
    "name": "ipython",
    "version": 3
   },
   "file_extension": ".py",
   "mimetype": "text/x-python",
   "name": "python",
   "nbconvert_exporter": "python",
   "pygments_lexer": "ipython3",
   "version": "3.6.10"
  }
 },
 "nbformat": 4,
 "nbformat_minor": 5
}
